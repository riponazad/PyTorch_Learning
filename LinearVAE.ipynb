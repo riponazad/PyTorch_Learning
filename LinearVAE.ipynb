{
 "cells": [
  {
   "cell_type": "code",
   "execution_count": 1,
   "metadata": {},
   "outputs": [],
   "source": [
    "import torch\n",
    "import torch.nn as nn\n",
    "import torch.nn.functional as F\n",
    "import torch\n",
    "import torchvision\n",
    "import torch.optim as optim\n",
    "import argparse\n",
    "import matplotlib\n",
    "import torch.nn as nn\n",
    "import matplotlib.pyplot as plt\n",
    "import torchvision.transforms as transforms\n",
    "from tqdm import tqdm\n",
    "from torchvision import datasets\n",
    "from torch.utils.data import DataLoader\n",
    "from torchvision.utils import save_image\n",
    "matplotlib.style.use('ggplot')"
   ]
  },
  {
   "cell_type": "code",
   "execution_count": 2,
   "metadata": {},
   "outputs": [
    {
     "name": "stdout",
     "output_type": "stream",
     "text": [
      "cpu\n"
     ]
    }
   ],
   "source": [
    "latent_dim = 2\n",
    "epochs = 100\n",
    "batch_size = 64\n",
    "lr = 0.001\n",
    "weight_decay = 1e-5\n",
    "device = torch.device('cpu')\n",
    "#device = torch.device('cuda' if torch.cuda.is_available() else 'cpu')\n",
    "print(device)"
   ]
  },
  {
   "cell_type": "code",
   "execution_count": 3,
   "metadata": {},
   "outputs": [],
   "source": [
    "# define a simple linear VAE\n",
    "class LinearVAE(nn.Module):\n",
    "    def __init__(self):\n",
    "        super(LinearVAE, self).__init__()\n",
    " \n",
    "        # encoder\n",
    "        self.enc1 = nn.Linear(in_features=784, out_features=500)\n",
    "        self.enc_mu = nn.Linear(in_features=500, out_features=latent_dim)\n",
    "        self.enc_logvar = nn.Linear(in_features=500, out_features=latent_dim)\n",
    " \n",
    "        # decoder \n",
    "        self.dec1 = nn.Linear(in_features=latent_dim, out_features=500)\n",
    "        self.dec2 = nn.Linear(in_features=500, out_features=784)\n",
    "        \n",
    "    def encoder(self, x):\n",
    "        # Shape Flatten image to [batch_size, input_features]\n",
    "        x = x.view(-1, 784)\n",
    "        # Feed x into Encoder to obtain mean and logvar\n",
    "        x = F.relu(self.enc1(x))\n",
    "        return self.enc_mu(x), self.enc_logvar(x)\n",
    "    \n",
    "    def decoder(self, z):\n",
    "        return torch.sigmoid(self.dec2(torch.relu(self.dec1(z))))\n",
    "    \n",
    "    def reparameterize(self, mu, log_var):\n",
    "        \"\"\"\n",
    "        :param mu: mean from the encoder's latent space\n",
    "        :param log_var: log variance from the encoder's latent space\n",
    "        \"\"\"\n",
    "        std = torch.exp(0.5*log_var) # standard deviation\n",
    "        eps = torch.randn_like(std) # `randn_like` as we need the same size\n",
    "        sample = mu + (eps * std) # sampling as if coming from the input space\n",
    "        return sample\n",
    " \n",
    "    def forward(self, x):\n",
    "        # encoding\n",
    "        mu, log_var = self.encoder(x)\n",
    "        z = self.reparameterize(mu, log_var)\n",
    " \n",
    "        # decoding\n",
    "        reconstruction = self.decoder(z)\n",
    "        return reconstruction, mu, log_var"
   ]
  },
  {
   "cell_type": "code",
   "execution_count": 4,
   "metadata": {},
   "outputs": [],
   "source": [
    "# transform to normalize the data\n",
    "transform = transforms.Compose([transforms.ToTensor()])\n",
    "\n",
    "# Download and load the training data\n",
    "trainset = datasets.MNIST('./data', download=True, train=True, transform=transform)\n",
    "train_loader = DataLoader(trainset, batch_size=64, shuffle=True)\n",
    "\n",
    "# Download and load the test data\n",
    "testset = datasets.MNIST('./data', download=True, train=False, transform=transform)\n",
    "test_loader = DataLoader(testset, batch_size=64, shuffle=False)"
   ]
  },
  {
   "cell_type": "code",
   "execution_count": 5,
   "metadata": {},
   "outputs": [
    {
     "name": "stdout",
     "output_type": "stream",
     "text": [
      "LinearVAE(\n",
      "  (enc1): Linear(in_features=784, out_features=500, bias=True)\n",
      "  (enc_mu): Linear(in_features=500, out_features=2, bias=True)\n",
      "  (enc_logvar): Linear(in_features=500, out_features=2, bias=True)\n",
      "  (dec1): Linear(in_features=2, out_features=500, bias=True)\n",
      "  (dec2): Linear(in_features=500, out_features=784, bias=True)\n",
      ")\n"
     ]
    }
   ],
   "source": [
    "model = LinearVAE().to(device)\n",
    "optimizer = optim.Adam(model.parameters(), lr=lr, weight_decay=weight_decay)\n",
    "criterion = nn.BCELoss(reduction='sum')\n",
    "print(model)"
   ]
  },
  {
   "cell_type": "code",
   "execution_count": 6,
   "metadata": {},
   "outputs": [],
   "source": [
    "def final_loss(bce_loss, mu, logvar):\n",
    "    \"\"\"\n",
    "    This function will add the reconstruction loss (BCELoss) and the \n",
    "    KL-Divergence.\n",
    "    KL-Divergence = 0.5 * sum(1 + log(sigma^2) - mu^2 - sigma^2)\n",
    "    :param bce_loss: recontruction loss\n",
    "    :param mu: the mean from the latent vector\n",
    "    :param logvar: log variance from the latent vector\n",
    "    \"\"\"\n",
    "    BCE = bce_loss \n",
    "    KLD = -0.5 * torch.sum(1 + logvar - mu.pow(2) - logvar.exp())\n",
    "    return BCE + KLD"
   ]
  },
  {
   "cell_type": "code",
   "execution_count": 7,
   "metadata": {},
   "outputs": [],
   "source": [
    "def fit(model, dataloader):\n",
    "    model.train()\n",
    "    running_loss = 0.0\n",
    "    for i, data in tqdm(enumerate(dataloader), total=int(len(trainset)/dataloader.batch_size)):\n",
    "        data, _ = data\n",
    "        data = data.to(device)\n",
    "        data = data.view(data.size(0), -1)\n",
    "        optimizer.zero_grad()\n",
    "        reconstruction, mu, logvar = model(data)\n",
    "        bce_loss = criterion(reconstruction, data)\n",
    "        loss = final_loss(bce_loss, mu, logvar)\n",
    "        running_loss += loss.item()\n",
    "        loss.backward()\n",
    "        optimizer.step()\n",
    "    train_loss = running_loss/len(dataloader.dataset)\n",
    "    return train_loss"
   ]
  },
  {
   "cell_type": "code",
   "execution_count": 8,
   "metadata": {},
   "outputs": [],
   "source": [
    "def validate(model, dataloader):\n",
    "    model.eval()\n",
    "    running_loss = 0.0\n",
    "    with torch.no_grad():\n",
    "        for i, data in tqdm(enumerate(dataloader), total=int(len(testset)/dataloader.batch_size)):\n",
    "            data, _ = data\n",
    "            data = data.to(device)\n",
    "            data = data.view(data.size(0), -1)\n",
    "            reconstruction, mu, logvar = model(data)\n",
    "            bce_loss = criterion(reconstruction, data)\n",
    "            loss = final_loss(bce_loss, mu, logvar)\n",
    "            running_loss += loss.item()\n",
    "        \n",
    "            # save the last batch input and output of every epoch\n",
    "            if i == int(len(testset)/dataloader.batch_size) - 1:\n",
    "                num_rows = 8\n",
    "                both = torch.cat((data.view(batch_size, 1, 28, 28)[:8], \n",
    "                                  reconstruction.view(batch_size, 1, 28, 28)[:8]))\n",
    "                save_image(both.cpu(), f\"E:/outputs/LinearVAE/output{epoch}.png\", nrow=num_rows)\n",
    "    val_loss = running_loss/len(dataloader.dataset)\n",
    "    return val_loss"
   ]
  },
  {
   "cell_type": "code",
   "execution_count": 9,
   "metadata": {
    "scrolled": true
   },
   "outputs": [
    {
     "name": "stderr",
     "output_type": "stream",
     "text": [
      "\r",
      "  0%|                                                                                          | 0/937 [00:00<?, ?it/s]"
     ]
    },
    {
     "name": "stdout",
     "output_type": "stream",
     "text": [
      "Epoch 1 of 100\n"
     ]
    },
    {
     "name": "stderr",
     "output_type": "stream",
     "text": [
      "938it [00:21, 43.77it/s]                                                                                               \n",
      "157it [00:01, 97.23it/s]                                                                                               \n",
      "  1%|▍                                                                                 | 5/937 [00:00<00:21, 42.85it/s]"
     ]
    },
    {
     "name": "stdout",
     "output_type": "stream",
     "text": [
      "Train Loss: 178.2353\n",
      "Val Loss: 164.9077\n",
      "Epoch 2 of 100\n"
     ]
    },
    {
     "name": "stderr",
     "output_type": "stream",
     "text": [
      "938it [00:25, 37.21it/s]                                                                                               \n",
      "157it [00:01, 95.18it/s]                                                                                               \n",
      "  0%|▎                                                                                 | 4/937 [00:00<00:28, 32.87it/s]"
     ]
    },
    {
     "name": "stdout",
     "output_type": "stream",
     "text": [
      "Train Loss: 163.2086\n",
      "Val Loss: 161.0623\n",
      "Epoch 3 of 100\n"
     ]
    },
    {
     "name": "stderr",
     "output_type": "stream",
     "text": [
      "938it [00:28, 32.35it/s]                                                                                               \n",
      "157it [00:01, 90.11it/s]                                                                                               \n",
      "  0%|▎                                                                                 | 3/937 [00:00<00:33, 27.85it/s]"
     ]
    },
    {
     "name": "stdout",
     "output_type": "stream",
     "text": [
      "Train Loss: 160.0659\n",
      "Val Loss: 158.0637\n",
      "Epoch 4 of 100\n"
     ]
    },
    {
     "name": "stderr",
     "output_type": "stream",
     "text": [
      "938it [00:30, 30.90it/s]                                                                                               \n",
      "157it [00:02, 70.06it/s]                                                                                               \n",
      "  0%|▎                                                                                 | 3/937 [00:00<00:35, 26.16it/s]"
     ]
    },
    {
     "name": "stdout",
     "output_type": "stream",
     "text": [
      "Train Loss: 157.7200\n",
      "Val Loss: 156.5819\n",
      "Epoch 5 of 100\n"
     ]
    },
    {
     "name": "stderr",
     "output_type": "stream",
     "text": [
      "938it [00:31, 29.72it/s]                                                                                               \n",
      "157it [00:01, 90.73it/s]                                                                                               \n",
      "  0%|▎                                                                                 | 4/937 [00:00<00:30, 31.09it/s]"
     ]
    },
    {
     "name": "stdout",
     "output_type": "stream",
     "text": [
      "Train Loss: 156.0151\n",
      "Val Loss: 155.4652\n",
      "Epoch 6 of 100\n"
     ]
    },
    {
     "name": "stderr",
     "output_type": "stream",
     "text": [
      "938it [00:29, 32.18it/s]                                                                                               \n",
      "157it [00:02, 73.32it/s]                                                                                               \n",
      "  0%|▎                                                                                 | 3/937 [00:00<00:41, 22.28it/s]"
     ]
    },
    {
     "name": "stdout",
     "output_type": "stream",
     "text": [
      "Train Loss: 154.7277\n",
      "Val Loss: 154.6748\n",
      "Epoch 7 of 100\n"
     ]
    },
    {
     "name": "stderr",
     "output_type": "stream",
     "text": [
      "938it [00:40, 23.25it/s]                                                                                               \n",
      "157it [00:02, 60.69it/s]                                                                                               \n",
      "  0%|▎                                                                                 | 3/937 [00:00<00:41, 22.45it/s]"
     ]
    },
    {
     "name": "stdout",
     "output_type": "stream",
     "text": [
      "Train Loss: 153.7749\n",
      "Val Loss: 153.8362\n",
      "Epoch 8 of 100\n"
     ]
    },
    {
     "name": "stderr",
     "output_type": "stream",
     "text": [
      "938it [00:40, 23.15it/s]                                                                                               \n",
      "157it [00:02, 58.74it/s]                                                                                               \n",
      "  0%|▎                                                                                 | 3/937 [00:00<00:43, 21.33it/s]"
     ]
    },
    {
     "name": "stdout",
     "output_type": "stream",
     "text": [
      "Train Loss: 152.9452\n",
      "Val Loss: 153.3577\n",
      "Epoch 9 of 100\n"
     ]
    },
    {
     "name": "stderr",
     "output_type": "stream",
     "text": [
      "938it [00:40, 22.96it/s]                                                                                               \n",
      "157it [00:02, 59.27it/s]                                                                                               \n",
      "  0%|▎                                                                                 | 3/937 [00:00<00:40, 23.14it/s]"
     ]
    },
    {
     "name": "stdout",
     "output_type": "stream",
     "text": [
      "Train Loss: 152.2996\n",
      "Val Loss: 152.7309\n",
      "Epoch 10 of 100\n"
     ]
    },
    {
     "name": "stderr",
     "output_type": "stream",
     "text": [
      "938it [00:40, 23.08it/s]                                                                                               \n",
      "157it [00:03, 50.15it/s]                                                                                               \n",
      "  0%|▏                                                                                 | 2/937 [00:00<01:05, 14.22it/s]"
     ]
    },
    {
     "name": "stdout",
     "output_type": "stream",
     "text": [
      "Train Loss: 151.6993\n",
      "Val Loss: 152.1265\n",
      "Epoch 11 of 100\n"
     ]
    },
    {
     "name": "stderr",
     "output_type": "stream",
     "text": [
      "938it [00:43, 21.46it/s]                                                                                               \n",
      "157it [00:02, 56.75it/s]                                                                                               \n",
      "  0%|▎                                                                                 | 3/937 [00:00<00:43, 21.33it/s]"
     ]
    },
    {
     "name": "stdout",
     "output_type": "stream",
     "text": [
      "Train Loss: 151.1167\n",
      "Val Loss: 151.9925\n",
      "Epoch 12 of 100\n"
     ]
    },
    {
     "name": "stderr",
     "output_type": "stream",
     "text": [
      "938it [00:42, 22.04it/s]                                                                                               \n",
      "157it [00:03, 52.26it/s]                                                                                               \n",
      "  0%|▏                                                                                 | 2/937 [00:00<00:53, 17.44it/s]"
     ]
    },
    {
     "name": "stdout",
     "output_type": "stream",
     "text": [
      "Train Loss: 150.6433\n",
      "Val Loss: 151.6208\n",
      "Epoch 13 of 100\n"
     ]
    },
    {
     "name": "stderr",
     "output_type": "stream",
     "text": [
      "938it [00:42, 21.87it/s]                                                                                               \n",
      "157it [00:02, 56.48it/s]                                                                                               \n",
      "  0%|▎                                                                                 | 3/937 [00:00<00:43, 21.49it/s]"
     ]
    },
    {
     "name": "stdout",
     "output_type": "stream",
     "text": [
      "Train Loss: 150.2360\n",
      "Val Loss: 151.2412\n",
      "Epoch 14 of 100\n"
     ]
    },
    {
     "name": "stderr",
     "output_type": "stream",
     "text": [
      "938it [00:43, 21.33it/s]                                                                                               \n",
      "157it [00:02, 55.29it/s]                                                                                               \n",
      "  0%|▏                                                                                 | 2/937 [00:00<00:48, 19.10it/s]"
     ]
    },
    {
     "name": "stdout",
     "output_type": "stream",
     "text": [
      "Train Loss: 149.8279\n",
      "Val Loss: 151.4997\n",
      "Epoch 15 of 100\n"
     ]
    },
    {
     "name": "stderr",
     "output_type": "stream",
     "text": [
      "938it [00:44, 21.13it/s]                                                                                               \n",
      "157it [00:02, 54.66it/s]                                                                                               \n",
      "  0%|▏                                                                                 | 2/937 [00:00<00:50, 18.40it/s]"
     ]
    },
    {
     "name": "stdout",
     "output_type": "stream",
     "text": [
      "Train Loss: 149.3688\n",
      "Val Loss: 151.1489\n",
      "Epoch 16 of 100\n"
     ]
    },
    {
     "name": "stderr",
     "output_type": "stream",
     "text": [
      "938it [00:44, 20.89it/s]                                                                                               \n",
      "157it [00:02, 54.28it/s]                                                                                               \n",
      "  0%|▏                                                                                 | 2/937 [00:00<00:50, 18.40it/s]"
     ]
    },
    {
     "name": "stdout",
     "output_type": "stream",
     "text": [
      "Train Loss: 149.0019\n",
      "Val Loss: 150.2741\n",
      "Epoch 17 of 100\n"
     ]
    },
    {
     "name": "stderr",
     "output_type": "stream",
     "text": [
      "938it [00:46, 20.37it/s]                                                                                               \n",
      "157it [00:02, 53.27it/s]                                                                                               \n",
      "  0%|▏                                                                                 | 2/937 [00:00<00:51, 18.23it/s]"
     ]
    },
    {
     "name": "stdout",
     "output_type": "stream",
     "text": [
      "Train Loss: 148.6735\n",
      "Val Loss: 150.1781\n",
      "Epoch 18 of 100\n"
     ]
    },
    {
     "name": "stderr",
     "output_type": "stream",
     "text": [
      "938it [00:46, 20.07it/s]                                                                                               \n",
      "157it [00:02, 52.83it/s]                                                                                               \n",
      "  0%|▏                                                                                 | 2/937 [00:00<00:52, 17.75it/s]"
     ]
    },
    {
     "name": "stdout",
     "output_type": "stream",
     "text": [
      "Train Loss: 148.3513\n",
      "Val Loss: 150.1250\n",
      "Epoch 19 of 100\n"
     ]
    },
    {
     "name": "stderr",
     "output_type": "stream",
     "text": [
      "938it [00:47, 19.54it/s]                                                                                               \n",
      "157it [00:02, 52.72it/s]                                                                                               \n",
      "  0%|▏                                                                                 | 2/937 [00:00<00:51, 18.23it/s]"
     ]
    },
    {
     "name": "stdout",
     "output_type": "stream",
     "text": [
      "Train Loss: 148.0921\n",
      "Val Loss: 150.0614\n",
      "Epoch 20 of 100\n"
     ]
    },
    {
     "name": "stderr",
     "output_type": "stream",
     "text": [
      "938it [00:51, 18.26it/s]                                                                                               \n",
      "157it [00:03, 47.46it/s]                                                                                               \n",
      "  0%|▏                                                                                 | 2/937 [00:00<00:55, 16.85it/s]"
     ]
    },
    {
     "name": "stdout",
     "output_type": "stream",
     "text": [
      "Train Loss: 147.8302\n",
      "Val Loss: 149.4397\n",
      "Epoch 21 of 100\n"
     ]
    },
    {
     "name": "stderr",
     "output_type": "stream",
     "text": [
      "938it [00:48, 19.31it/s]                                                                                               \n",
      "157it [00:02, 53.07it/s]                                                                                               \n",
      "  0%|▏                                                                                 | 2/937 [00:00<00:48, 19.10it/s]"
     ]
    },
    {
     "name": "stdout",
     "output_type": "stream",
     "text": [
      "Train Loss: 147.5216\n",
      "Val Loss: 150.6601\n",
      "Epoch 22 of 100\n"
     ]
    },
    {
     "name": "stderr",
     "output_type": "stream",
     "text": [
      "938it [00:48, 19.29it/s]                                                                                               \n",
      "157it [00:02, 53.04it/s]                                                                                               \n",
      "  0%|▏                                                                                 | 2/937 [00:00<00:54, 17.14it/s]"
     ]
    },
    {
     "name": "stdout",
     "output_type": "stream",
     "text": [
      "Train Loss: 147.3388\n",
      "Val Loss: 149.3703\n",
      "Epoch 23 of 100\n"
     ]
    },
    {
     "name": "stderr",
     "output_type": "stream",
     "text": [
      "938it [00:48, 19.16it/s]                                                                                               \n",
      "157it [00:02, 52.49it/s]                                                                                               \n",
      "  0%|▏                                                                                 | 2/937 [00:00<00:51, 18.07it/s]"
     ]
    },
    {
     "name": "stdout",
     "output_type": "stream",
     "text": [
      "Train Loss: 147.0616\n",
      "Val Loss: 149.5612\n",
      "Epoch 24 of 100\n"
     ]
    },
    {
     "name": "stderr",
     "output_type": "stream",
     "text": [
      "938it [00:50, 18.59it/s]                                                                                               \n",
      "157it [00:03, 45.26it/s]                                                                                               \n",
      "  0%|▏                                                                                 | 2/937 [00:00<00:59, 15.79it/s]"
     ]
    },
    {
     "name": "stdout",
     "output_type": "stream",
     "text": [
      "Train Loss: 146.9037\n",
      "Val Loss: 149.3763\n",
      "Epoch 25 of 100\n"
     ]
    },
    {
     "name": "stderr",
     "output_type": "stream",
     "text": [
      "938it [00:51, 18.09it/s]                                                                                               \n",
      "157it [00:03, 50.95it/s]                                                                                               \n",
      "  0%|▏                                                                                 | 2/937 [00:00<00:55, 16.85it/s]"
     ]
    },
    {
     "name": "stdout",
     "output_type": "stream",
     "text": [
      "Train Loss: 146.6909\n",
      "Val Loss: 149.2154\n",
      "Epoch 26 of 100\n"
     ]
    },
    {
     "name": "stderr",
     "output_type": "stream",
     "text": [
      "938it [00:52, 17.94it/s]                                                                                               \n",
      "157it [00:03, 47.99it/s]                                                                                               \n",
      "  0%|▏                                                                                 | 2/937 [00:00<01:02, 14.97it/s]"
     ]
    },
    {
     "name": "stdout",
     "output_type": "stream",
     "text": [
      "Train Loss: 146.5148\n",
      "Val Loss: 149.3034\n",
      "Epoch 27 of 100\n"
     ]
    },
    {
     "name": "stderr",
     "output_type": "stream",
     "text": [
      "938it [00:53, 17.43it/s]                                                                                               \n",
      "157it [00:03, 47.47it/s]                                                                                               \n",
      "  0%|▏                                                                                 | 2/937 [00:00<00:55, 16.99it/s]"
     ]
    },
    {
     "name": "stdout",
     "output_type": "stream",
     "text": [
      "Train Loss: 146.3442\n",
      "Val Loss: 149.6508\n",
      "Epoch 28 of 100\n"
     ]
    },
    {
     "name": "stderr",
     "output_type": "stream",
     "text": [
      "938it [00:54, 17.08it/s]                                                                                               \n",
      "157it [00:03, 45.87it/s]                                                                                               \n",
      "  0%|▏                                                                                 | 2/937 [00:00<00:58, 15.92it/s]"
     ]
    },
    {
     "name": "stdout",
     "output_type": "stream",
     "text": [
      "Train Loss: 146.1590\n",
      "Val Loss: 148.8286\n",
      "Epoch 29 of 100\n"
     ]
    },
    {
     "name": "stderr",
     "output_type": "stream",
     "text": [
      "938it [00:57, 16.41it/s]                                                                                               \n",
      "157it [00:03, 44.19it/s]                                                                                               \n",
      "  0%|▏                                                                                 | 2/937 [00:00<01:02, 14.85it/s]"
     ]
    },
    {
     "name": "stdout",
     "output_type": "stream",
     "text": [
      "Train Loss: 145.9799\n",
      "Val Loss: 148.9752\n",
      "Epoch 30 of 100\n"
     ]
    },
    {
     "name": "stderr",
     "output_type": "stream",
     "text": [
      "938it [00:58, 15.95it/s]                                                                                               \n",
      "157it [00:03, 42.15it/s]                                                                                               \n",
      "  0%|▏                                                                                 | 2/937 [00:00<01:02, 15.08it/s]"
     ]
    },
    {
     "name": "stdout",
     "output_type": "stream",
     "text": [
      "Train Loss: 145.8101\n",
      "Val Loss: 148.9185\n",
      "Epoch 31 of 100\n"
     ]
    },
    {
     "name": "stderr",
     "output_type": "stream",
     "text": [
      "938it [00:57, 16.21it/s]                                                                                               \n",
      "157it [00:03, 43.09it/s]                                                                                               \n",
      "  0%|▏                                                                                 | 2/937 [00:00<00:59, 15.67it/s]"
     ]
    },
    {
     "name": "stdout",
     "output_type": "stream",
     "text": [
      "Train Loss: 145.6525\n",
      "Val Loss: 149.0987\n",
      "Epoch 32 of 100\n"
     ]
    },
    {
     "name": "stderr",
     "output_type": "stream",
     "text": [
      "938it [00:58, 15.97it/s]                                                                                               \n",
      "157it [00:03, 44.21it/s]                                                                                               \n",
      "  0%|▏                                                                                 | 2/937 [00:00<01:02, 15.08it/s]"
     ]
    },
    {
     "name": "stdout",
     "output_type": "stream",
     "text": [
      "Train Loss: 145.5623\n",
      "Val Loss: 148.7293\n",
      "Epoch 33 of 100\n"
     ]
    },
    {
     "name": "stderr",
     "output_type": "stream",
     "text": [
      "938it [01:00, 15.47it/s]                                                                                               \n",
      "157it [00:03, 42.06it/s]                                                                                               \n",
      "  0%|▏                                                                                 | 2/937 [00:00<01:05, 14.32it/s]"
     ]
    },
    {
     "name": "stdout",
     "output_type": "stream",
     "text": [
      "Train Loss: 145.3824\n",
      "Val Loss: 148.5985\n",
      "Epoch 34 of 100\n"
     ]
    },
    {
     "name": "stderr",
     "output_type": "stream",
     "text": [
      "938it [01:02, 15.09it/s]                                                                                               \n",
      "157it [00:03, 43.06it/s]                                                                                               \n",
      "  0%|▏                                                                                 | 2/937 [00:00<01:06, 14.02it/s]"
     ]
    },
    {
     "name": "stdout",
     "output_type": "stream",
     "text": [
      "Train Loss: 145.2364\n",
      "Val Loss: 148.6279\n",
      "Epoch 35 of 100\n"
     ]
    },
    {
     "name": "stderr",
     "output_type": "stream",
     "text": [
      "938it [01:03, 14.77it/s]                                                                                               \n",
      "157it [00:03, 43.66it/s]                                                                                               \n",
      "  0%|▏                                                                                 | 2/937 [00:00<01:06, 14.12it/s]"
     ]
    },
    {
     "name": "stdout",
     "output_type": "stream",
     "text": [
      "Train Loss: 145.1247\n",
      "Val Loss: 148.7564\n",
      "Epoch 36 of 100\n"
     ]
    },
    {
     "name": "stderr",
     "output_type": "stream",
     "text": [
      "938it [01:03, 14.86it/s]                                                                                               \n",
      "157it [00:03, 44.26it/s]                                                                                               \n",
      "  0%|▏                                                                                 | 2/937 [00:00<01:06, 14.12it/s]"
     ]
    },
    {
     "name": "stdout",
     "output_type": "stream",
     "text": [
      "Train Loss: 144.9999\n",
      "Val Loss: 148.7830\n",
      "Epoch 37 of 100\n"
     ]
    },
    {
     "name": "stderr",
     "output_type": "stream",
     "text": [
      "938it [01:02, 14.96it/s]                                                                                               \n",
      "157it [00:03, 44.48it/s]                                                                                               \n",
      "  0%|▏                                                                                 | 2/937 [00:00<01:06, 14.02it/s]"
     ]
    },
    {
     "name": "stdout",
     "output_type": "stream",
     "text": [
      "Train Loss: 144.8698\n",
      "Val Loss: 148.6122\n",
      "Epoch 38 of 100\n"
     ]
    },
    {
     "name": "stderr",
     "output_type": "stream",
     "text": [
      "938it [01:04, 14.62it/s]                                                                                               \n",
      "157it [00:03, 44.38it/s]                                                                                               \n",
      "  0%|▏                                                                                 | 2/937 [00:00<01:06, 14.02it/s]"
     ]
    },
    {
     "name": "stdout",
     "output_type": "stream",
     "text": [
      "Train Loss: 144.7194\n",
      "Val Loss: 148.7240\n",
      "Epoch 39 of 100\n"
     ]
    },
    {
     "name": "stderr",
     "output_type": "stream",
     "text": [
      "938it [01:06, 14.14it/s]                                                                                               \n",
      "157it [00:03, 45.11it/s]                                                                                               \n",
      "  0%|▏                                                                                 | 2/937 [00:00<01:13, 12.69it/s]"
     ]
    },
    {
     "name": "stdout",
     "output_type": "stream",
     "text": [
      "Train Loss: 144.6251\n",
      "Val Loss: 148.7031\n",
      "Epoch 40 of 100\n"
     ]
    },
    {
     "name": "stderr",
     "output_type": "stream",
     "text": [
      "938it [01:04, 14.54it/s]                                                                                               \n",
      "157it [00:03, 45.76it/s]                                                                                               \n",
      "  0%|▏                                                                                 | 2/937 [00:00<01:09, 13.55it/s]"
     ]
    },
    {
     "name": "stdout",
     "output_type": "stream",
     "text": [
      "Train Loss: 144.5957\n",
      "Val Loss: 148.7297\n",
      "Epoch 41 of 100\n"
     ]
    },
    {
     "name": "stderr",
     "output_type": "stream",
     "text": [
      "938it [01:06, 14.11it/s]                                                                                               \n",
      "157it [00:03, 44.82it/s]                                                                                               \n",
      "  0%|▏                                                                                 | 2/937 [00:00<01:13, 12.69it/s]"
     ]
    },
    {
     "name": "stdout",
     "output_type": "stream",
     "text": [
      "Train Loss: 144.4375\n",
      "Val Loss: 148.7665\n",
      "Epoch 42 of 100\n"
     ]
    },
    {
     "name": "stderr",
     "output_type": "stream",
     "text": [
      "938it [01:07, 13.86it/s]                                                                                               \n",
      "157it [00:03, 45.79it/s]                                                                                               \n",
      "  0%|▏                                                                                 | 2/937 [00:00<01:14, 12.61it/s]"
     ]
    },
    {
     "name": "stdout",
     "output_type": "stream",
     "text": [
      "Train Loss: 144.3394\n",
      "Val Loss: 148.5180\n",
      "Epoch 43 of 100\n"
     ]
    },
    {
     "name": "stderr",
     "output_type": "stream",
     "text": [
      "938it [01:10, 13.32it/s]                                                                                               \n",
      "157it [00:03, 44.90it/s]                                                                                               \n",
      "  0%|▏                                                                                 | 2/937 [00:00<01:15, 12.46it/s]"
     ]
    },
    {
     "name": "stdout",
     "output_type": "stream",
     "text": [
      "Train Loss: 144.2547\n",
      "Val Loss: 149.0083\n",
      "Epoch 44 of 100\n"
     ]
    },
    {
     "name": "stderr",
     "output_type": "stream",
     "text": [
      "938it [01:12, 12.95it/s]                                                                                               \n",
      "157it [00:03, 44.02it/s]                                                                                               \n",
      "  0%|▏                                                                                 | 2/937 [00:00<01:14, 12.61it/s]"
     ]
    },
    {
     "name": "stdout",
     "output_type": "stream",
     "text": [
      "Train Loss: 144.1886\n",
      "Val Loss: 148.6215\n",
      "Epoch 45 of 100\n"
     ]
    },
    {
     "name": "stderr",
     "output_type": "stream",
     "text": [
      "938it [01:14, 12.60it/s]                                                                                               \n",
      "157it [00:03, 45.76it/s]                                                                                               \n",
      "  0%|▏                                                                                 | 2/937 [00:00<01:15, 12.46it/s]"
     ]
    },
    {
     "name": "stdout",
     "output_type": "stream",
     "text": [
      "Train Loss: 144.0527\n",
      "Val Loss: 148.3759\n",
      "Epoch 46 of 100\n"
     ]
    },
    {
     "name": "stderr",
     "output_type": "stream",
     "text": [
      "938it [01:16, 12.18it/s]                                                                                               \n",
      "157it [00:03, 40.61it/s]                                                                                               \n",
      "  0%|                                                                                  | 1/937 [00:00<01:37,  9.64it/s]"
     ]
    },
    {
     "name": "stdout",
     "output_type": "stream",
     "text": [
      "Train Loss: 143.9928\n",
      "Val Loss: 148.4061\n",
      "Epoch 47 of 100\n"
     ]
    },
    {
     "name": "stderr",
     "output_type": "stream",
     "text": [
      "938it [01:17, 12.03it/s]                                                                                               \n",
      "157it [00:03, 45.66it/s]                                                                                               \n",
      "  0%|▏                                                                                 | 2/937 [00:00<01:17, 12.01it/s]"
     ]
    },
    {
     "name": "stdout",
     "output_type": "stream",
     "text": [
      "Train Loss: 143.8892\n",
      "Val Loss: 148.0190\n",
      "Epoch 48 of 100\n"
     ]
    },
    {
     "name": "stderr",
     "output_type": "stream",
     "text": [
      "938it [01:18, 11.90it/s]                                                                                               \n",
      "157it [00:03, 46.49it/s]                                                                                               \n",
      "  0%|▏                                                                                 | 2/937 [00:00<01:20, 11.59it/s]"
     ]
    },
    {
     "name": "stdout",
     "output_type": "stream",
     "text": [
      "Train Loss: 143.7962\n",
      "Val Loss: 148.2418\n",
      "Epoch 49 of 100\n"
     ]
    },
    {
     "name": "stderr",
     "output_type": "stream",
     "text": [
      "938it [01:17, 12.11it/s]                                                                                               \n",
      "157it [00:03, 44.77it/s]                                                                                               \n",
      "  0%|▏                                                                                 | 2/937 [00:00<01:21, 11.52it/s]"
     ]
    },
    {
     "name": "stdout",
     "output_type": "stream",
     "text": [
      "Train Loss: 143.7539\n",
      "Val Loss: 148.3841\n",
      "Epoch 50 of 100\n"
     ]
    },
    {
     "name": "stderr",
     "output_type": "stream",
     "text": [
      "938it [01:16, 12.30it/s]                                                                                               \n",
      "157it [00:03, 45.29it/s]                                                                                               \n",
      "  0%|▏                                                                                 | 2/937 [00:00<01:22, 11.39it/s]"
     ]
    },
    {
     "name": "stdout",
     "output_type": "stream",
     "text": [
      "Train Loss: 143.6206\n",
      "Val Loss: 148.2243\n",
      "Epoch 51 of 100\n"
     ]
    },
    {
     "name": "stderr",
     "output_type": "stream",
     "text": [
      "938it [01:17, 12.12it/s]                                                                                               \n",
      "157it [00:04, 39.13it/s]                                                                                               \n",
      "  0%|                                                                                          | 0/937 [00:00<?, ?it/s]"
     ]
    },
    {
     "name": "stdout",
     "output_type": "stream",
     "text": [
      "Train Loss: 143.5267\n",
      "Val Loss: 148.4575\n",
      "Epoch 52 of 100\n"
     ]
    },
    {
     "name": "stderr",
     "output_type": "stream",
     "text": [
      "938it [01:18, 11.95it/s]                                                                                               \n",
      "157it [00:03, 47.13it/s]                                                                                               \n",
      "  0%|▏                                                                                 | 2/937 [00:00<01:23, 11.14it/s]"
     ]
    },
    {
     "name": "stdout",
     "output_type": "stream",
     "text": [
      "Train Loss: 143.4245\n",
      "Val Loss: 148.3385\n",
      "Epoch 53 of 100\n"
     ]
    },
    {
     "name": "stderr",
     "output_type": "stream",
     "text": [
      "938it [01:16, 12.19it/s]                                                                                               \n",
      "157it [00:03, 48.95it/s]                                                                                               \n",
      "  0%|▏                                                                                 | 2/937 [00:00<01:19, 11.80it/s]"
     ]
    },
    {
     "name": "stdout",
     "output_type": "stream",
     "text": [
      "Train Loss: 143.3518\n",
      "Val Loss: 148.0058\n",
      "Epoch 54 of 100\n"
     ]
    },
    {
     "name": "stderr",
     "output_type": "stream",
     "text": [
      "938it [01:16, 12.19it/s]                                                                                               \n",
      "157it [00:03, 47.54it/s]                                                                                               \n",
      "  0%|▏                                                                                 | 2/937 [00:00<01:29, 10.44it/s]"
     ]
    },
    {
     "name": "stdout",
     "output_type": "stream",
     "text": [
      "Train Loss: 143.3586\n",
      "Val Loss: 148.8730\n",
      "Epoch 55 of 100\n"
     ]
    },
    {
     "name": "stderr",
     "output_type": "stream",
     "text": [
      "938it [01:17, 12.03it/s]                                                                                               \n",
      "157it [00:03, 45.55it/s]                                                                                               \n",
      "  0%|▏                                                                                 | 2/937 [00:00<01:21, 11.46it/s]"
     ]
    },
    {
     "name": "stdout",
     "output_type": "stream",
     "text": [
      "Train Loss: 143.2516\n",
      "Val Loss: 147.8408\n",
      "Epoch 56 of 100\n"
     ]
    },
    {
     "name": "stderr",
     "output_type": "stream",
     "text": [
      "938it [01:18, 12.00it/s]                                                                                               \n",
      "157it [00:03, 47.73it/s]                                                                                               \n",
      "  0%|                                                                                          | 0/937 [00:00<?, ?it/s]"
     ]
    },
    {
     "name": "stdout",
     "output_type": "stream",
     "text": [
      "Train Loss: 143.1720\n",
      "Val Loss: 148.5325\n",
      "Epoch 57 of 100\n"
     ]
    },
    {
     "name": "stderr",
     "output_type": "stream",
     "text": [
      "938it [01:19, 11.83it/s]                                                                                               \n",
      "157it [00:03, 45.80it/s]                                                                                               \n",
      "  0%|▏                                                                                 | 2/937 [00:00<01:25, 10.96it/s]"
     ]
    },
    {
     "name": "stdout",
     "output_type": "stream",
     "text": [
      "Train Loss: 143.0925\n",
      "Val Loss: 148.1223\n",
      "Epoch 58 of 100\n"
     ]
    },
    {
     "name": "stderr",
     "output_type": "stream",
     "text": [
      "938it [01:17, 12.17it/s]                                                                                               \n",
      "157it [00:03, 46.81it/s]                                                                                               \n",
      "  0%|▏                                                                                 | 2/937 [00:00<01:23, 11.20it/s]"
     ]
    },
    {
     "name": "stdout",
     "output_type": "stream",
     "text": [
      "Train Loss: 143.0129\n",
      "Val Loss: 148.3398\n",
      "Epoch 59 of 100\n"
     ]
    },
    {
     "name": "stderr",
     "output_type": "stream",
     "text": [
      "938it [01:17, 12.04it/s]                                                                                               \n",
      "157it [00:03, 45.34it/s]                                                                                               \n",
      "  0%|▏                                                                                 | 2/937 [00:00<01:18, 11.87it/s]"
     ]
    },
    {
     "name": "stdout",
     "output_type": "stream",
     "text": [
      "Train Loss: 142.9169\n",
      "Val Loss: 148.1999\n",
      "Epoch 60 of 100\n"
     ]
    },
    {
     "name": "stderr",
     "output_type": "stream",
     "text": [
      "938it [01:16, 12.26it/s]                                                                                               \n",
      "157it [00:03, 46.18it/s]                                                                                               \n",
      "  0%|▏                                                                                 | 2/937 [00:00<01:18, 11.94it/s]"
     ]
    },
    {
     "name": "stdout",
     "output_type": "stream",
     "text": [
      "Train Loss: 142.8916\n",
      "Val Loss: 148.1741\n",
      "Epoch 61 of 100\n"
     ]
    },
    {
     "name": "stderr",
     "output_type": "stream",
     "text": [
      "938it [01:15, 12.44it/s]                                                                                               \n",
      "157it [00:03, 45.13it/s]                                                                                               \n",
      "  0%|▏                                                                                 | 2/937 [00:00<01:18, 11.94it/s]"
     ]
    },
    {
     "name": "stdout",
     "output_type": "stream",
     "text": [
      "Train Loss: 142.8337\n",
      "Val Loss: 148.0898\n",
      "Epoch 62 of 100\n"
     ]
    },
    {
     "name": "stderr",
     "output_type": "stream",
     "text": [
      "938it [01:14, 12.61it/s]                                                                                               \n",
      "157it [00:03, 45.81it/s]                                                                                               \n",
      "  0%|▏                                                                                 | 2/937 [00:00<01:19, 11.80it/s]"
     ]
    },
    {
     "name": "stdout",
     "output_type": "stream",
     "text": [
      "Train Loss: 142.7051\n",
      "Val Loss: 148.1682\n",
      "Epoch 63 of 100\n"
     ]
    },
    {
     "name": "stderr",
     "output_type": "stream",
     "text": [
      "938it [01:14, 12.63it/s]                                                                                               \n",
      "157it [00:03, 45.54it/s]                                                                                               \n",
      "  0%|▏                                                                                 | 2/937 [00:00<01:21, 11.46it/s]"
     ]
    },
    {
     "name": "stdout",
     "output_type": "stream",
     "text": [
      "Train Loss: 142.7070\n",
      "Val Loss: 148.6849\n",
      "Epoch 64 of 100\n"
     ]
    },
    {
     "name": "stderr",
     "output_type": "stream",
     "text": [
      "938it [01:16, 12.33it/s]                                                                                               \n",
      "157it [00:03, 41.79it/s]                                                                                               \n",
      "  0%|▏                                                                                 | 2/937 [00:00<01:22, 11.33it/s]"
     ]
    },
    {
     "name": "stdout",
     "output_type": "stream",
     "text": [
      "Train Loss: 142.6259\n",
      "Val Loss: 148.3860\n",
      "Epoch 65 of 100\n"
     ]
    },
    {
     "name": "stderr",
     "output_type": "stream",
     "text": [
      "938it [01:13, 12.69it/s]                                                                                               \n",
      "157it [00:03, 44.72it/s]                                                                                               \n",
      "  0%|▏                                                                                 | 2/937 [00:00<01:22, 11.27it/s]"
     ]
    },
    {
     "name": "stdout",
     "output_type": "stream",
     "text": [
      "Train Loss: 142.5097\n",
      "Val Loss: 148.3539\n",
      "Epoch 66 of 100\n"
     ]
    },
    {
     "name": "stderr",
     "output_type": "stream",
     "text": [
      "938it [01:18, 11.91it/s]                                                                                               \n",
      "157it [00:04, 37.72it/s]                                                                                               \n",
      "  0%|▏                                                                                 | 2/937 [00:00<01:21, 11.52it/s]"
     ]
    },
    {
     "name": "stdout",
     "output_type": "stream",
     "text": [
      "Train Loss: 142.5353\n",
      "Val Loss: 148.5897\n",
      "Epoch 67 of 100\n"
     ]
    },
    {
     "name": "stderr",
     "output_type": "stream",
     "text": [
      "938it [01:20, 11.60it/s]                                                                                               \n",
      "157it [00:03, 41.50it/s]                                                                                               \n",
      "  0%|▏                                                                                 | 2/937 [00:00<01:23, 11.14it/s]"
     ]
    },
    {
     "name": "stdout",
     "output_type": "stream",
     "text": [
      "Train Loss: 142.4348\n",
      "Val Loss: 148.2637\n",
      "Epoch 68 of 100\n"
     ]
    },
    {
     "name": "stderr",
     "output_type": "stream",
     "text": [
      "938it [01:16, 12.21it/s]                                                                                               \n",
      "157it [00:03, 45.03it/s]                                                                                               \n",
      "  0%|▏                                                                                 | 2/937 [00:00<01:19, 11.80it/s]"
     ]
    },
    {
     "name": "stdout",
     "output_type": "stream",
     "text": [
      "Train Loss: 142.3884\n",
      "Val Loss: 147.9168\n",
      "Epoch 69 of 100\n"
     ]
    },
    {
     "name": "stderr",
     "output_type": "stream",
     "text": [
      "938it [01:14, 12.62it/s]                                                                                               \n",
      "157it [00:03, 45.09it/s]                                                                                               \n",
      "  0%|▏                                                                                 | 2/937 [00:00<01:27, 10.72it/s]"
     ]
    },
    {
     "name": "stdout",
     "output_type": "stream",
     "text": [
      "Train Loss: 142.2809\n",
      "Val Loss: 148.0433\n",
      "Epoch 70 of 100\n"
     ]
    },
    {
     "name": "stderr",
     "output_type": "stream",
     "text": [
      "938it [01:14, 12.62it/s]                                                                                               \n",
      "157it [00:03, 46.52it/s]                                                                                               \n",
      "  0%|▏                                                                                 | 2/937 [00:00<01:19, 11.73it/s]"
     ]
    },
    {
     "name": "stdout",
     "output_type": "stream",
     "text": [
      "Train Loss: 142.2677\n",
      "Val Loss: 148.1025\n",
      "Epoch 71 of 100\n"
     ]
    },
    {
     "name": "stderr",
     "output_type": "stream",
     "text": [
      "938it [01:16, 12.32it/s]                                                                                               \n",
      "157it [00:03, 47.27it/s]                                                                                               \n",
      "  0%|▏                                                                                 | 2/937 [00:00<01:18, 11.94it/s]"
     ]
    },
    {
     "name": "stdout",
     "output_type": "stream",
     "text": [
      "Train Loss: 142.2275\n",
      "Val Loss: 148.0289\n",
      "Epoch 72 of 100\n"
     ]
    },
    {
     "name": "stderr",
     "output_type": "stream",
     "text": [
      "938it [01:14, 12.51it/s]                                                                                               \n",
      "157it [00:03, 45.59it/s]                                                                                               \n",
      "  0%|▏                                                                                 | 2/937 [00:00<01:20, 11.59it/s]"
     ]
    },
    {
     "name": "stdout",
     "output_type": "stream",
     "text": [
      "Train Loss: 142.2048\n",
      "Val Loss: 148.3006\n",
      "Epoch 73 of 100\n"
     ]
    },
    {
     "name": "stderr",
     "output_type": "stream",
     "text": [
      "938it [01:14, 12.57it/s]                                                                                               \n",
      "157it [00:03, 45.08it/s]                                                                                               \n",
      "  0%|▏                                                                                 | 2/937 [00:00<01:18, 11.94it/s]"
     ]
    },
    {
     "name": "stdout",
     "output_type": "stream",
     "text": [
      "Train Loss: 142.1679\n",
      "Val Loss: 148.8578\n",
      "Epoch 74 of 100\n"
     ]
    },
    {
     "name": "stderr",
     "output_type": "stream",
     "text": [
      "938it [01:14, 12.57it/s]                                                                                               \n",
      "157it [00:03, 45.38it/s]                                                                                               \n",
      "  0%|▏                                                                                 | 2/937 [00:00<01:15, 12.30it/s]"
     ]
    },
    {
     "name": "stdout",
     "output_type": "stream",
     "text": [
      "Train Loss: 142.0293\n",
      "Val Loss: 148.3451\n",
      "Epoch 75 of 100\n"
     ]
    },
    {
     "name": "stderr",
     "output_type": "stream",
     "text": [
      "938it [01:14, 12.56it/s]                                                                                               \n",
      "157it [00:03, 45.87it/s]                                                                                               \n",
      "  0%|▏                                                                                 | 2/937 [00:00<01:19, 11.80it/s]"
     ]
    },
    {
     "name": "stdout",
     "output_type": "stream",
     "text": [
      "Train Loss: 141.9974\n",
      "Val Loss: 147.8277\n",
      "Epoch 76 of 100\n"
     ]
    },
    {
     "name": "stderr",
     "output_type": "stream",
     "text": [
      "938it [01:13, 12.73it/s]                                                                                               \n",
      "157it [00:03, 46.66it/s]                                                                                               \n",
      "  0%|▏                                                                                 | 2/937 [00:00<01:18, 11.94it/s]"
     ]
    },
    {
     "name": "stdout",
     "output_type": "stream",
     "text": [
      "Train Loss: 141.9654\n",
      "Val Loss: 147.9658\n",
      "Epoch 77 of 100\n"
     ]
    },
    {
     "name": "stderr",
     "output_type": "stream",
     "text": [
      "938it [01:15, 12.43it/s]                                                                                               \n",
      "157it [00:03, 45.09it/s]                                                                                               \n",
      "  0%|▏                                                                                 | 2/937 [00:00<01:19, 11.73it/s]"
     ]
    },
    {
     "name": "stdout",
     "output_type": "stream",
     "text": [
      "Train Loss: 141.9313\n",
      "Val Loss: 148.1063\n",
      "Epoch 78 of 100\n"
     ]
    },
    {
     "name": "stderr",
     "output_type": "stream",
     "text": [
      "938it [01:13, 12.68it/s]                                                                                               \n",
      "157it [00:03, 46.46it/s]                                                                                               \n",
      "  0%|▏                                                                                 | 2/937 [00:00<01:19, 11.80it/s]"
     ]
    },
    {
     "name": "stdout",
     "output_type": "stream",
     "text": [
      "Train Loss: 141.8860\n",
      "Val Loss: 148.4402\n",
      "Epoch 79 of 100\n"
     ]
    },
    {
     "name": "stderr",
     "output_type": "stream",
     "text": [
      "938it [01:16, 12.34it/s]                                                                                               \n",
      "157it [00:03, 46.02it/s]                                                                                               \n",
      "  0%|▏                                                                                 | 2/937 [00:00<01:17, 12.01it/s]"
     ]
    },
    {
     "name": "stdout",
     "output_type": "stream",
     "text": [
      "Train Loss: 141.8218\n",
      "Val Loss: 147.9307\n",
      "Epoch 80 of 100\n"
     ]
    },
    {
     "name": "stderr",
     "output_type": "stream",
     "text": [
      "938it [01:13, 12.70it/s]                                                                                               \n",
      "157it [00:03, 45.09it/s]                                                                                               \n",
      "  0%|▏                                                                                 | 2/937 [00:00<01:18, 11.87it/s]"
     ]
    },
    {
     "name": "stdout",
     "output_type": "stream",
     "text": [
      "Train Loss: 141.7202\n",
      "Val Loss: 147.8763\n",
      "Epoch 81 of 100\n"
     ]
    },
    {
     "name": "stderr",
     "output_type": "stream",
     "text": [
      "938it [01:14, 12.63it/s]                                                                                               \n",
      "157it [00:03, 46.18it/s]                                                                                               \n",
      "  0%|▏                                                                                 | 2/937 [00:00<01:19, 11.73it/s]"
     ]
    },
    {
     "name": "stdout",
     "output_type": "stream",
     "text": [
      "Train Loss: 141.6991\n",
      "Val Loss: 148.2605\n",
      "Epoch 82 of 100\n"
     ]
    },
    {
     "name": "stderr",
     "output_type": "stream",
     "text": [
      "938it [01:13, 12.70it/s]                                                                                               \n",
      "157it [00:03, 45.88it/s]                                                                                               \n",
      "  0%|▏                                                                                 | 2/937 [00:00<01:21, 11.52it/s]"
     ]
    },
    {
     "name": "stdout",
     "output_type": "stream",
     "text": [
      "Train Loss: 141.6452\n",
      "Val Loss: 147.7781\n",
      "Epoch 83 of 100\n"
     ]
    },
    {
     "name": "stderr",
     "output_type": "stream",
     "text": [
      "938it [01:14, 12.53it/s]                                                                                               \n",
      "157it [00:03, 44.72it/s]                                                                                               \n",
      "  0%|▏                                                                                 | 2/937 [00:00<01:19, 11.73it/s]"
     ]
    },
    {
     "name": "stdout",
     "output_type": "stream",
     "text": [
      "Train Loss: 141.6759\n",
      "Val Loss: 148.6037\n",
      "Epoch 84 of 100\n"
     ]
    },
    {
     "name": "stderr",
     "output_type": "stream",
     "text": [
      "938it [01:14, 12.67it/s]                                                                                               \n",
      "157it [00:03, 44.91it/s]                                                                                               \n",
      "  0%|▏                                                                                 | 2/937 [00:00<01:13, 12.69it/s]"
     ]
    },
    {
     "name": "stdout",
     "output_type": "stream",
     "text": [
      "Train Loss: 141.5571\n",
      "Val Loss: 147.9222\n",
      "Epoch 85 of 100\n"
     ]
    },
    {
     "name": "stderr",
     "output_type": "stream",
     "text": [
      "938it [01:13, 12.77it/s]                                                                                               \n",
      "157it [00:03, 45.31it/s]                                                                                               \n",
      "  0%|▏                                                                                 | 2/937 [00:00<01:18, 11.94it/s]"
     ]
    },
    {
     "name": "stdout",
     "output_type": "stream",
     "text": [
      "Train Loss: 141.5123\n",
      "Val Loss: 148.2244\n",
      "Epoch 86 of 100\n"
     ]
    },
    {
     "name": "stderr",
     "output_type": "stream",
     "text": [
      "938it [01:15, 12.43it/s]                                                                                               \n",
      "157it [00:03, 45.56it/s]                                                                                               \n",
      "  0%|▏                                                                                 | 2/937 [00:00<01:15, 12.46it/s]"
     ]
    },
    {
     "name": "stdout",
     "output_type": "stream",
     "text": [
      "Train Loss: 141.5687\n",
      "Val Loss: 148.4492\n",
      "Epoch 87 of 100\n"
     ]
    },
    {
     "name": "stderr",
     "output_type": "stream",
     "text": [
      "938it [01:14, 12.65it/s]                                                                                               \n",
      "157it [00:03, 45.76it/s]                                                                                               \n",
      "  0%|▏                                                                                 | 2/937 [00:00<01:16, 12.23it/s]"
     ]
    },
    {
     "name": "stdout",
     "output_type": "stream",
     "text": [
      "Train Loss: 141.4300\n",
      "Val Loss: 148.2842\n",
      "Epoch 88 of 100\n"
     ]
    },
    {
     "name": "stderr",
     "output_type": "stream",
     "text": [
      "938it [01:15, 12.34it/s]                                                                                               \n",
      "157it [00:03, 44.62it/s]                                                                                               \n",
      "  0%|▏                                                                                 | 2/937 [00:00<01:19, 11.73it/s]"
     ]
    },
    {
     "name": "stdout",
     "output_type": "stream",
     "text": [
      "Train Loss: 141.3835\n",
      "Val Loss: 148.0442\n",
      "Epoch 89 of 100\n"
     ]
    },
    {
     "name": "stderr",
     "output_type": "stream",
     "text": [
      "938it [01:16, 12.26it/s]                                                                                               \n",
      "157it [00:03, 44.94it/s]                                                                                               \n",
      "  0%|▏                                                                                 | 2/937 [00:00<01:22, 11.39it/s]"
     ]
    },
    {
     "name": "stdout",
     "output_type": "stream",
     "text": [
      "Train Loss: 141.3628\n",
      "Val Loss: 147.8728\n",
      "Epoch 90 of 100\n"
     ]
    },
    {
     "name": "stderr",
     "output_type": "stream",
     "text": [
      "938it [01:17, 12.18it/s]                                                                                               \n",
      "157it [00:03, 44.65it/s]                                                                                               \n",
      "  0%|▏                                                                                 | 2/937 [00:00<01:22, 11.27it/s]"
     ]
    },
    {
     "name": "stdout",
     "output_type": "stream",
     "text": [
      "Train Loss: 141.2892\n",
      "Val Loss: 147.8874\n",
      "Epoch 91 of 100\n"
     ]
    },
    {
     "name": "stderr",
     "output_type": "stream",
     "text": [
      "938it [01:17, 12.08it/s]                                                                                               \n",
      "157it [00:03, 40.07it/s]                                                                                               \n",
      "  0%|▏                                                                                 | 2/937 [00:00<01:22, 11.33it/s]"
     ]
    },
    {
     "name": "stdout",
     "output_type": "stream",
     "text": [
      "Train Loss: 141.2535\n",
      "Val Loss: 148.1449\n",
      "Epoch 92 of 100\n"
     ]
    },
    {
     "name": "stderr",
     "output_type": "stream",
     "text": [
      "938it [01:16, 12.19it/s]                                                                                               \n",
      "157it [00:03, 44.49it/s]                                                                                               \n",
      "  0%|▏                                                                                 | 2/937 [00:00<01:16, 12.15it/s]"
     ]
    },
    {
     "name": "stdout",
     "output_type": "stream",
     "text": [
      "Train Loss: 141.2595\n",
      "Val Loss: 148.1316\n",
      "Epoch 93 of 100\n"
     ]
    },
    {
     "name": "stderr",
     "output_type": "stream",
     "text": [
      "938it [01:14, 12.59it/s]                                                                                               \n",
      "157it [00:03, 44.46it/s]                                                                                               \n",
      "  0%|▏                                                                                 | 2/937 [00:00<01:16, 12.23it/s]"
     ]
    },
    {
     "name": "stdout",
     "output_type": "stream",
     "text": [
      "Train Loss: 141.1907\n",
      "Val Loss: 148.4383\n",
      "Epoch 94 of 100\n"
     ]
    },
    {
     "name": "stderr",
     "output_type": "stream",
     "text": [
      "938it [01:14, 12.57it/s]                                                                                               \n",
      "157it [00:04, 39.13it/s]                                                                                               \n",
      "  0%|▏                                                                                 | 2/937 [00:00<01:26, 10.78it/s]"
     ]
    },
    {
     "name": "stdout",
     "output_type": "stream",
     "text": [
      "Train Loss: 141.1657\n",
      "Val Loss: 148.3323\n",
      "Epoch 95 of 100\n"
     ]
    },
    {
     "name": "stderr",
     "output_type": "stream",
     "text": [
      "938it [01:16, 12.25it/s]                                                                                               \n",
      "157it [00:03, 44.41it/s]                                                                                               \n",
      "  0%|▏                                                                                 | 2/937 [00:00<01:23, 11.20it/s]"
     ]
    },
    {
     "name": "stdout",
     "output_type": "stream",
     "text": [
      "Train Loss: 141.1598\n",
      "Val Loss: 148.1104\n",
      "Epoch 96 of 100\n"
     ]
    },
    {
     "name": "stderr",
     "output_type": "stream",
     "text": [
      "938it [01:17, 12.17it/s]                                                                                               \n",
      "157it [00:03, 45.55it/s]                                                                                               \n",
      "  0%|▏                                                                                 | 2/937 [00:00<01:18, 11.94it/s]"
     ]
    },
    {
     "name": "stdout",
     "output_type": "stream",
     "text": [
      "Train Loss: 141.0952\n",
      "Val Loss: 147.9459\n",
      "Epoch 97 of 100\n"
     ]
    },
    {
     "name": "stderr",
     "output_type": "stream",
     "text": [
      "938it [01:16, 12.26it/s]                                                                                               \n",
      "157it [00:03, 46.04it/s]                                                                                               \n",
      "  0%|▏                                                                                 | 2/937 [00:00<01:17, 12.08it/s]"
     ]
    },
    {
     "name": "stdout",
     "output_type": "stream",
     "text": [
      "Train Loss: 141.0783\n",
      "Val Loss: 148.0533\n",
      "Epoch 98 of 100\n"
     ]
    },
    {
     "name": "stderr",
     "output_type": "stream",
     "text": [
      "938it [01:16, 12.22it/s]                                                                                               \n",
      "157it [00:03, 44.90it/s]                                                                                               \n",
      "  0%|▏                                                                                 | 2/937 [00:00<01:24, 11.08it/s]"
     ]
    },
    {
     "name": "stdout",
     "output_type": "stream",
     "text": [
      "Train Loss: 141.0444\n",
      "Val Loss: 147.8524\n",
      "Epoch 99 of 100\n"
     ]
    },
    {
     "name": "stderr",
     "output_type": "stream",
     "text": [
      "938it [01:18, 11.97it/s]                                                                                               \n",
      "157it [00:03, 44.99it/s]                                                                                               \n",
      "  0%|▏                                                                                 | 2/937 [00:00<01:23, 11.14it/s]"
     ]
    },
    {
     "name": "stdout",
     "output_type": "stream",
     "text": [
      "Train Loss: 140.9368\n",
      "Val Loss: 148.2628\n",
      "Epoch 100 of 100\n"
     ]
    },
    {
     "name": "stderr",
     "output_type": "stream",
     "text": [
      "938it [01:19, 11.80it/s]                                                                                               \n",
      "157it [00:03, 45.72it/s]                                                                                               "
     ]
    },
    {
     "name": "stdout",
     "output_type": "stream",
     "text": [
      "Train Loss: 140.9531\n",
      "Val Loss: 148.2993\n"
     ]
    },
    {
     "name": "stderr",
     "output_type": "stream",
     "text": [
      "\n"
     ]
    }
   ],
   "source": [
    "train_loss = []\n",
    "val_loss = []\n",
    "for epoch in range(epochs):\n",
    "    print(f\"Epoch {epoch+1} of {epochs}\")\n",
    "    train_epoch_loss = fit(model, train_loader)\n",
    "    val_epoch_loss = validate(model, test_loader)\n",
    "    train_loss.append(train_epoch_loss)\n",
    "    val_loss.append(val_epoch_loss)\n",
    "    print(f\"Train Loss: {train_epoch_loss:.4f}\")\n",
    "    print(f\"Val Loss: {val_epoch_loss:.4f}\")"
   ]
  },
  {
   "cell_type": "code",
   "execution_count": 10,
   "metadata": {},
   "outputs": [
    {
     "name": "stdout",
     "output_type": "stream",
     "text": [
      "__Python VERSION: 3.8.5 (default, Sep  3 2020, 21:29:08) [MSC v.1916 64 bit (AMD64)]\n",
      "__pyTorch VERSION: 1.7.0\n",
      "__CUDA VERSION\n"
     ]
    },
    {
     "name": "stderr",
     "output_type": "stream",
     "text": [
      "'nvcc' is not recognized as an internal or external command,\n",
      "operable program or batch file.\n"
     ]
    },
    {
     "name": "stdout",
     "output_type": "stream",
     "text": [
      "__CUDNN VERSION: 7605\n",
      "__Number CUDA Devices: 1\n",
      "__Devices\n",
      "Active CUDA Device: GPU 0\n",
      "Available devices  1\n",
      "Current cuda device  0\n"
     ]
    }
   ],
   "source": []
  },
  {
   "cell_type": "code",
   "execution_count": 11,
   "metadata": {},
   "outputs": [
    {
     "data": {
      "image/png": "[encoded data removed]",
      "text/plain": [
       "<Figure size 432x288 with 1 Axes>"
      ]
     },
     "metadata": {},
     "output_type": "display_data"
    }
   ],
   "source": [
    "import numpy as np\n",
    "model.eval()\n",
    "with torch.no_grad():\n",
    "    z = torch.randn(50, 2, device=device)\n",
    "    recon_images = model.decoder(z)\n",
    "\n",
    "    #print(recon_images.size())\n",
    "    recon_images = recon_images.view(recon_images.size(0), 1, 28, 28)\n",
    "    recon_images = recon_images.cpu()\n",
    "    recon_images = recon_images.clamp(0, 1)\n",
    "    plt.imshow(np.transpose(torchvision.utils.make_grid(recon_images, 10, 5).numpy(), (1, 2, 0)))"
   ]
  },
  {
   "cell_type": "code",
   "execution_count": 12,
   "metadata": {},
   "outputs": [
    {
     "data": {
      "image/png": "[encoded data removed]",
      "text/plain": [
       "<Figure size 720x720 with 1 Axes>"
      ]
     },
     "metadata": {},
     "output_type": "display_data"
    }
   ],
   "source": [
    "with torch.no_grad():\n",
    "    # Create empty (x, y) grid\n",
    "    latent_x = np.linspace(-1.5, 1.5, 20)\n",
    "    latent_y = np.linspace(-1.5, 1.5, 20)\n",
    "    latents = torch.FloatTensor(len(latent_x), len(latent_y), 2)\n",
    "    # Fill up the grid\n",
    "    for i, lx in enumerate(latent_x):\n",
    "        for j, ly in enumerate(latent_y):\n",
    "            latents[j, i, 0] = lx\n",
    "            latents[j, i, 1] = ly\n",
    "    # Flatten the grid\n",
    "    latents = latents.view(-1, 2)\n",
    "    # Send to GPU\n",
    "    latents = latents.to(device)\n",
    "    # Find their representation\n",
    "    reconstructions = model.decoder(latents).view(-1, 1, 28, 28)\n",
    "    reconstructions = reconstructions.cpu()\n",
    "    # Finally, plot\n",
    "    fig, ax = plt.subplots(figsize=(10, 10))\n",
    "    plt.imshow(np.transpose(torchvision.utils.make_grid(reconstructions.data[:400], 20, 5).clamp(0, 1).numpy(), (1, 2, 0))) "
   ]
  },
  {
   "cell_type": "code",
   "execution_count": null,
   "metadata": {},
   "outputs": [],
   "source": []
  }
 ],
 "metadata": {
  "kernelspec": {
   "display_name": "Python 3",
   "language": "python",
   "name": "python3"
  },
  "language_info": {
   "codemirror_mode": {
    "name": "ipython",
    "version": 3
   },
   "file_extension": ".py",
   "mimetype": "text/x-python",
   "name": "python",
   "nbconvert_exporter": "python",
   "pygments_lexer": "ipython3",
   "version": "3.8.5"
  }
 },
 "nbformat": 4,
 "nbformat_minor": 4
}
