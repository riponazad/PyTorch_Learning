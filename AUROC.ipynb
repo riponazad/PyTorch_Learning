{
  "nbformat": 4,
  "nbformat_minor": 0,
  "metadata": {
    "colab": {
      "name": "AUROC.ipynb",
      "provenance": [],
      "authorship_tag": "ABX9TyOaG4zJhzC3tXZYWTIB+q3o",
      "include_colab_link": true
    },
    "kernelspec": {
      "name": "python3",
      "display_name": "Python 3"
    },
    "language_info": {
      "name": "python"
    }
  },
  "cells": [
    {
      "cell_type": "markdown",
      "metadata": {
        "id": "view-in-github",
        "colab_type": "text"
      },
      "source": [
        "<a href=\"https://colab.research.google.com/github/riponazad/PyTorch_Learning/blob/main/AUROC.ipynb\" target=\"_parent\"><img src=\"https://colab.research.google.com/assets/colab-badge.svg\" alt=\"Open In Colab\"/></a>"
      ]
    },
    {
      "cell_type": "code",
      "metadata": {
        "id": "RnoMG7UFh0IO"
      },
      "source": [
        "import numpy as np\n",
        "import pandas as pd\n",
        "import matplotlib.pyplot as plt\n",
        "import seaborn as sns\n",
        "# roc curve and auc score\n",
        "from sklearn.datasets import make_classification\n",
        "from sklearn.neighbors import KNeighborsClassifier\n",
        "from sklearn.ensemble import RandomForestClassifier\n",
        "from sklearn.model_selection import train_test_split\n",
        "from sklearn.metrics import roc_curve\n",
        "from sklearn.metrics import roc_auc_score"
      ],
      "execution_count": null,
      "outputs": []
    },
    {
      "cell_type": "code",
      "metadata": {
        "id": "F6M4bwOAh-GZ"
      },
      "source": [
        "def plot_roc_curve(fpr, tpr):\n",
        "    plt.plot(fpr, tpr, color='orange', label='ROC')\n",
        "    plt.plot([0, 1], [0, 1], color='darkblue', linestyle='--')\n",
        "    plt.xlabel('False Positive Rate')\n",
        "    plt.ylabel('True Positive Rate')\n",
        "    plt.title('Receiver Operating Characteristic (ROC) Curve')\n",
        "    plt.legend()\n",
        "    plt.show()"
      ],
      "execution_count": null,
      "outputs": []
    },
    {
      "cell_type": "code",
      "metadata": {
        "id": "f3nWSXlOiG7R"
      },
      "source": [
        "data_X, class_label = make_classification(n_samples=1000, n_classes=2, weights=[1,1], random_state=1)"
      ],
      "execution_count": null,
      "outputs": []
    },
    {
      "cell_type": "code",
      "metadata": {
        "colab": {
          "base_uri": "https://localhost:8080/"
        },
        "id": "tYBa2jOyikWV",
        "outputId": "82582dad-7019-46af-b663-0922ee353e74"
      },
      "source": [
        "print(data_X.shape)\n",
        "print(class_label)"
      ],
      "execution_count": null,
      "outputs": [
        {
          "output_type": "stream",
          "text": [
            "(1000, 20)\n",
            "[0 0 1 0 0 0 0 0 1 1 0 0 0 0 0 1 1 0 1 0 1 0 1 1 0 1 0 1 1 0 1 0 1 1 0 0 0\n",
            " 1 1 0 1 1 1 0 1 1 1 1 0 0 0 1 0 1 1 0 0 1 0 1 0 1 1 1 0 1 1 0 0 0 0 0 1 1\n",
            " 0 1 0 1 0 1 0 1 0 1 0 1 0 1 1 0 0 0 1 0 1 1 1 1 0 1 1 1 1 1 1 0 1 1 0 1 0\n",
            " 1 0 0 1 1 0 0 0 0 1 1 1 0 0 0 1 1 0 0 1 0 1 0 1 0 0 1 1 0 0 0 1 1 1 0 1 1\n",
            " 0 1 0 1 0 1 0 1 1 1 1 0 1 1 0 1 0 1 0 1 1 1 1 0 0 1 1 1 1 1 0 0 0 1 0 0 0\n",
            " 0 1 1 1 1 0 0 1 1 1 0 1 1 0 0 0 1 1 0 0 1 1 0 1 1 1 0 0 0 0 0 0 1 1 0 0 0\n",
            " 0 0 0 1 0 0 0 0 1 1 0 1 1 1 0 1 0 1 1 1 1 0 1 1 0 1 0 1 1 1 1 1 0 0 1 0 0\n",
            " 1 1 0 1 1 1 1 0 1 1 1 1 1 1 1 0 0 0 0 0 0 0 0 0 0 0 0 0 0 0 1 1 1 0 1 0 1\n",
            " 0 0 0 0 0 0 0 1 1 0 1 1 1 1 1 0 0 1 0 1 0 1 1 1 1 0 1 0 1 0 0 0 0 1 1 1 1\n",
            " 0 1 1 1 0 0 1 1 1 1 1 0 1 0 1 0 0 1 1 0 1 0 0 0 1 1 1 0 0 0 0 1 1 1 1 0 0\n",
            " 0 1 0 0 1 1 0 1 0 0 1 1 0 1 0 1 0 0 0 0 1 0 1 0 1 1 0 1 0 0 0 1 1 0 0 1 0\n",
            " 0 1 0 1 1 1 0 1 1 1 0 0 1 1 1 1 0 0 0 1 0 0 0 0 1 1 1 0 1 0 1 1 1 1 1 0 0\n",
            " 0 1 1 1 1 0 0 1 0 1 1 0 0 0 0 0 1 0 1 0 0 1 1 0 1 0 1 1 0 0 0 0 1 0 1 1 0\n",
            " 0 1 1 0 1 0 0 1 0 1 0 0 0 0 1 0 1 1 0 1 0 1 1 1 0 0 0 1 0 0 0 1 0 0 1 1 0\n",
            " 0 1 1 1 1 1 1 1 0 1 1 1 1 1 0 0 0 0 0 1 1 1 0 1 0 0 0 0 0 1 1 0 1 1 1 1 0\n",
            " 0 1 0 0 1 0 0 0 1 0 1 0 1 1 1 1 0 1 0 0 1 0 0 1 0 1 1 0 1 1 0 0 1 1 1 0 0\n",
            " 1 1 1 0 0 0 1 0 1 0 1 0 0 1 1 1 0 0 0 1 0 0 0 1 1 0 0 1 1 0 0 1 0 1 1 0 0\n",
            " 0 1 0 0 0 1 1 0 0 1 0 1 1 1 1 1 1 0 1 1 0 0 1 0 0 1 1 0 1 1 1 0 1 0 1 0 0\n",
            " 1 0 1 0 0 0 0 0 0 1 1 1 0 1 0 0 1 0 1 0 0 1 1 0 0 0 1 1 0 0 0 0 0 0 1 0 0\n",
            " 1 1 0 0 1 0 1 1 1 0 0 1 0 1 1 0 1 1 0 0 1 1 0 1 1 0 1 1 1 0 0 0 0 1 0 1 1\n",
            " 1 0 0 0 1 0 1 0 0 0 0 1 0 1 1 0 1 1 1 0 0 1 0 0 0 1 1 0 0 1 1 1 1 1 1 1 0\n",
            " 0 0 0 0 0 1 1 0 0 0 0 1 0 0 0 1 0 0 1 1 1 0 0 0 1 0 0 1 1 1 1 1 1 1 0 0 1\n",
            " 1 1 1 0 1 1 0 1 0 1 1 0 1 0 1 0 0 0 0 1 1 0 0 0 1 1 0 1 0 0 0 1 1 1 0 0 0\n",
            " 0 1 1 1 1 1 1 1 1 1 1 1 1 1 1 1 1 1 0 1 0 0 1 0 1 0 1 0 0 1 0 1 0 0 0 1 0\n",
            " 1 1 1 1 0 1 1 0 0 1 0 0 0 0 1 0 0 1 0 1 1 0 0 1 0 0 1 0 0 0 0 1 1 1 1 1 0\n",
            " 0 1 1 1 1 1 1 0 0 1 0 0 0 0 1 0 1 0 0 1 0 0 0 1 0 1 0 0 1 1 0 0 1 1 0 0 0\n",
            " 1 1 0 0 0 1 0 0 0 1 1 1 1 0 0 0 0 0 1 1 0 1 0 0 1 1 0 0 0 1 1 1 0 0 1 0 1\n",
            " 0]\n"
          ],
          "name": "stdout"
        }
      ]
    },
    {
      "cell_type": "code",
      "metadata": {
        "id": "cI3XDC5JizYI"
      },
      "source": [
        "trainX, testX, trainy, testy = train_test_split(data_X, class_label, test_size=0.3, random_state=1)"
      ],
      "execution_count": null,
      "outputs": []
    },
    {
      "cell_type": "code",
      "metadata": {
        "colab": {
          "base_uri": "https://localhost:8080/"
        },
        "id": "XS0C3UxxjIzy",
        "outputId": "1fa07b87-ab9a-4359-d02e-a8d820fef7d4"
      },
      "source": [
        "model = RandomForestClassifier()\n",
        "model.fit(trainX, trainy)"
      ],
      "execution_count": null,
      "outputs": [
        {
          "output_type": "execute_result",
          "data": {
            "text/plain": [
              "RandomForestClassifier(bootstrap=True, ccp_alpha=0.0, class_weight=None,\n",
              "                       criterion='gini', max_depth=None, max_features='auto',\n",
              "                       max_leaf_nodes=None, max_samples=None,\n",
              "                       min_impurity_decrease=0.0, min_impurity_split=None,\n",
              "                       min_samples_leaf=1, min_samples_split=2,\n",
              "                       min_weight_fraction_leaf=0.0, n_estimators=100,\n",
              "                       n_jobs=None, oob_score=False, random_state=None,\n",
              "                       verbose=0, warm_start=False)"
            ]
          },
          "metadata": {
            "tags": []
          },
          "execution_count": 7
        }
      ]
    },
    {
      "cell_type": "code",
      "metadata": {
        "id": "QR3M47onjNki"
      },
      "source": [
        "probs = model.predict_proba(testX)"
      ],
      "execution_count": null,
      "outputs": []
    },
    {
      "cell_type": "code",
      "metadata": {
        "colab": {
          "base_uri": "https://localhost:8080/"
        },
        "id": "YYh3V3S2jTVG",
        "outputId": "48f232e5-d3aa-4872-8b82-31e2aa9f7b0c"
      },
      "source": [
        "print(probs)"
      ],
      "execution_count": null,
      "outputs": [
        {
          "output_type": "stream",
          "text": [
            "[[0.94 0.06]\n",
            " [0.07 0.93]\n",
            " [0.97 0.03]\n",
            " [0.97 0.03]\n",
            " [0.06 0.94]\n",
            " [0.17 0.83]\n",
            " [0.2  0.8 ]\n",
            " [0.05 0.95]\n",
            " [0.23 0.77]\n",
            " [0.87 0.13]\n",
            " [0.25 0.75]\n",
            " [0.05 0.95]\n",
            " [0.98 0.02]\n",
            " [0.17 0.83]\n",
            " [0.19 0.81]\n",
            " [0.95 0.05]\n",
            " [0.14 0.86]\n",
            " [0.97 0.03]\n",
            " [0.08 0.92]\n",
            " [1.   0.  ]\n",
            " [0.94 0.06]\n",
            " [0.78 0.22]\n",
            " [0.14 0.86]\n",
            " [0.11 0.89]\n",
            " [0.2  0.8 ]\n",
            " [0.16 0.84]\n",
            " [0.95 0.05]\n",
            " [0.17 0.83]\n",
            " [0.1  0.9 ]\n",
            " [0.08 0.92]\n",
            " [0.99 0.01]\n",
            " [0.93 0.07]\n",
            " [0.29 0.71]\n",
            " [0.27 0.73]\n",
            " [0.18 0.82]\n",
            " [0.94 0.06]\n",
            " [0.98 0.02]\n",
            " [0.86 0.14]\n",
            " [0.1  0.9 ]\n",
            " [0.95 0.05]\n",
            " [0.98 0.02]\n",
            " [0.34 0.66]\n",
            " [0.99 0.01]\n",
            " [0.84 0.16]\n",
            " [0.26 0.74]\n",
            " [0.92 0.08]\n",
            " [0.18 0.82]\n",
            " [0.11 0.89]\n",
            " [0.15 0.85]\n",
            " [0.97 0.03]\n",
            " [0.99 0.01]\n",
            " [0.31 0.69]\n",
            " [0.99 0.01]\n",
            " [0.96 0.04]\n",
            " [0.98 0.02]\n",
            " [0.98 0.02]\n",
            " [0.22 0.78]\n",
            " [0.2  0.8 ]\n",
            " [0.88 0.12]\n",
            " [0.93 0.07]\n",
            " [0.48 0.52]\n",
            " [0.97 0.03]\n",
            " [0.01 0.99]\n",
            " [0.86 0.14]\n",
            " [0.9  0.1 ]\n",
            " [0.66 0.34]\n",
            " [0.98 0.02]\n",
            " [0.57 0.43]\n",
            " [0.16 0.84]\n",
            " [0.51 0.49]\n",
            " [0.09 0.91]\n",
            " [0.96 0.04]\n",
            " [0.19 0.81]\n",
            " [0.99 0.01]\n",
            " [0.97 0.03]\n",
            " [0.11 0.89]\n",
            " [0.99 0.01]\n",
            " [0.   1.  ]\n",
            " [0.11 0.89]\n",
            " [0.16 0.84]\n",
            " [0.95 0.05]\n",
            " [0.91 0.09]\n",
            " [0.26 0.74]\n",
            " [0.08 0.92]\n",
            " [0.78 0.22]\n",
            " [0.14 0.86]\n",
            " [0.99 0.01]\n",
            " [0.98 0.02]\n",
            " [0.37 0.63]\n",
            " [0.26 0.74]\n",
            " [0.16 0.84]\n",
            " [0.15 0.85]\n",
            " [0.65 0.35]\n",
            " [0.97 0.03]\n",
            " [0.11 0.89]\n",
            " [0.8  0.2 ]\n",
            " [0.04 0.96]\n",
            " [0.16 0.84]\n",
            " [0.99 0.01]\n",
            " [0.98 0.02]\n",
            " [0.28 0.72]\n",
            " [1.   0.  ]\n",
            " [0.26 0.74]\n",
            " [0.96 0.04]\n",
            " [0.98 0.02]\n",
            " [0.02 0.98]\n",
            " [0.94 0.06]\n",
            " [0.32 0.68]\n",
            " [0.47 0.53]\n",
            " [0.3  0.7 ]\n",
            " [0.23 0.77]\n",
            " [0.99 0.01]\n",
            " [0.21 0.79]\n",
            " [0.15 0.85]\n",
            " [0.02 0.98]\n",
            " [0.03 0.97]\n",
            " [0.2  0.8 ]\n",
            " [0.97 0.03]\n",
            " [0.13 0.87]\n",
            " [0.97 0.03]\n",
            " [0.97 0.03]\n",
            " [0.96 0.04]\n",
            " [0.99 0.01]\n",
            " [0.14 0.86]\n",
            " [0.19 0.81]\n",
            " [0.93 0.07]\n",
            " [0.21 0.79]\n",
            " [0.12 0.88]\n",
            " [0.16 0.84]\n",
            " [0.07 0.93]\n",
            " [0.13 0.87]\n",
            " [0.99 0.01]\n",
            " [0.01 0.99]\n",
            " [0.11 0.89]\n",
            " [0.64 0.36]\n",
            " [0.22 0.78]\n",
            " [0.97 0.03]\n",
            " [0.09 0.91]\n",
            " [0.08 0.92]\n",
            " [0.18 0.82]\n",
            " [0.11 0.89]\n",
            " [0.32 0.68]\n",
            " [0.97 0.03]\n",
            " [0.99 0.01]\n",
            " [0.15 0.85]\n",
            " [0.92 0.08]\n",
            " [0.13 0.87]\n",
            " [0.73 0.27]\n",
            " [0.91 0.09]\n",
            " [0.27 0.73]\n",
            " [0.97 0.03]\n",
            " [0.99 0.01]\n",
            " [0.06 0.94]\n",
            " [0.07 0.93]\n",
            " [0.29 0.71]\n",
            " [0.96 0.04]\n",
            " [0.5  0.5 ]\n",
            " [0.27 0.73]\n",
            " [0.99 0.01]\n",
            " [0.94 0.06]\n",
            " [0.14 0.86]\n",
            " [0.19 0.81]\n",
            " [0.99 0.01]\n",
            " [0.24 0.76]\n",
            " [0.76 0.24]\n",
            " [0.96 0.04]\n",
            " [0.15 0.85]\n",
            " [0.95 0.05]\n",
            " [0.12 0.88]\n",
            " [0.96 0.04]\n",
            " [0.35 0.65]\n",
            " [0.18 0.82]\n",
            " [0.97 0.03]\n",
            " [0.98 0.02]\n",
            " [0.12 0.88]\n",
            " [0.15 0.85]\n",
            " [0.23 0.77]\n",
            " [0.15 0.85]\n",
            " [0.19 0.81]\n",
            " [0.16 0.84]\n",
            " [0.98 0.02]\n",
            " [0.95 0.05]\n",
            " [0.53 0.47]\n",
            " [0.86 0.14]\n",
            " [0.61 0.39]\n",
            " [0.49 0.51]\n",
            " [1.   0.  ]\n",
            " [0.9  0.1 ]\n",
            " [0.45 0.55]\n",
            " [0.07 0.93]\n",
            " [0.97 0.03]\n",
            " [0.14 0.86]\n",
            " [0.2  0.8 ]\n",
            " [0.13 0.87]\n",
            " [0.75 0.25]\n",
            " [0.76 0.24]\n",
            " [0.96 0.04]\n",
            " [0.09 0.91]\n",
            " [0.16 0.84]\n",
            " [0.98 0.02]\n",
            " [0.95 0.05]\n",
            " [0.96 0.04]\n",
            " [0.78 0.22]\n",
            " [0.13 0.87]\n",
            " [0.23 0.77]\n",
            " [0.87 0.13]\n",
            " [0.97 0.03]\n",
            " [0.14 0.86]\n",
            " [0.14 0.86]\n",
            " [0.97 0.03]\n",
            " [0.06 0.94]\n",
            " [0.2  0.8 ]\n",
            " [0.96 0.04]\n",
            " [0.99 0.01]\n",
            " [0.18 0.82]\n",
            " [0.13 0.87]\n",
            " [1.   0.  ]\n",
            " [0.21 0.79]\n",
            " [0.98 0.02]\n",
            " [1.   0.  ]\n",
            " [0.31 0.69]\n",
            " [0.93 0.07]\n",
            " [0.8  0.2 ]\n",
            " [0.05 0.95]\n",
            " [0.18 0.82]\n",
            " [0.11 0.89]\n",
            " [0.05 0.95]\n",
            " [0.98 0.02]\n",
            " [0.64 0.36]\n",
            " [0.02 0.98]\n",
            " [0.65 0.35]\n",
            " [0.24 0.76]\n",
            " [0.08 0.92]\n",
            " [0.84 0.16]\n",
            " [0.13 0.87]\n",
            " [0.09 0.91]\n",
            " [0.09 0.91]\n",
            " [0.83 0.17]\n",
            " [0.09 0.91]\n",
            " [0.03 0.97]\n",
            " [0.96 0.04]\n",
            " [0.07 0.93]\n",
            " [0.13 0.87]\n",
            " [0.98 0.02]\n",
            " [0.12 0.88]\n",
            " [0.22 0.78]\n",
            " [0.42 0.58]\n",
            " [0.2  0.8 ]\n",
            " [0.69 0.31]\n",
            " [0.73 0.27]\n",
            " [0.96 0.04]\n",
            " [0.01 0.99]\n",
            " [0.08 0.92]\n",
            " [0.21 0.79]\n",
            " [0.15 0.85]\n",
            " [0.11 0.89]\n",
            " [0.95 0.05]\n",
            " [0.17 0.83]\n",
            " [0.34 0.66]\n",
            " [0.97 0.03]\n",
            " [0.1  0.9 ]\n",
            " [0.83 0.17]\n",
            " [0.   1.  ]\n",
            " [0.03 0.97]\n",
            " [0.46 0.54]\n",
            " [0.19 0.81]\n",
            " [0.34 0.66]\n",
            " [0.08 0.92]\n",
            " [0.96 0.04]\n",
            " [0.21 0.79]\n",
            " [0.14 0.86]\n",
            " [0.07 0.93]\n",
            " [0.58 0.42]\n",
            " [0.85 0.15]\n",
            " [0.05 0.95]\n",
            " [0.08 0.92]\n",
            " [0.42 0.58]\n",
            " [0.41 0.59]\n",
            " [0.19 0.81]\n",
            " [0.07 0.93]\n",
            " [0.98 0.02]\n",
            " [0.15 0.85]\n",
            " [0.83 0.17]\n",
            " [0.05 0.95]\n",
            " [0.31 0.69]\n",
            " [0.34 0.66]\n",
            " [0.12 0.88]\n",
            " [0.97 0.03]\n",
            " [0.09 0.91]\n",
            " [0.   1.  ]\n",
            " [1.   0.  ]\n",
            " [0.98 0.02]\n",
            " [0.99 0.01]\n",
            " [0.95 0.05]\n",
            " [1.   0.  ]\n",
            " [0.88 0.12]\n",
            " [0.1  0.9 ]\n",
            " [0.13 0.87]\n",
            " [0.22 0.78]\n",
            " [0.99 0.01]]\n"
          ],
          "name": "stdout"
        }
      ]
    },
    {
      "cell_type": "code",
      "metadata": {
        "colab": {
          "base_uri": "https://localhost:8080/"
        },
        "id": "CW3H5JBXjgAs",
        "outputId": "0a7be172-299a-437e-ac62-94352e6e77b4"
      },
      "source": [
        "probs = probs[:, 1]\n",
        "print(probs)\n",
        "print(testy)"
      ],
      "execution_count": null,
      "outputs": [
        {
          "output_type": "stream",
          "text": [
            "[0.06 0.93 0.03 0.03 0.94 0.83 0.8  0.95 0.77 0.13 0.75 0.95 0.02 0.83\n",
            " 0.81 0.05 0.86 0.03 0.92 0.   0.06 0.22 0.86 0.89 0.8  0.84 0.05 0.83\n",
            " 0.9  0.92 0.01 0.07 0.71 0.73 0.82 0.06 0.02 0.14 0.9  0.05 0.02 0.66\n",
            " 0.01 0.16 0.74 0.08 0.82 0.89 0.85 0.03 0.01 0.69 0.01 0.04 0.02 0.02\n",
            " 0.78 0.8  0.12 0.07 0.52 0.03 0.99 0.14 0.1  0.34 0.02 0.43 0.84 0.49\n",
            " 0.91 0.04 0.81 0.01 0.03 0.89 0.01 1.   0.89 0.84 0.05 0.09 0.74 0.92\n",
            " 0.22 0.86 0.01 0.02 0.63 0.74 0.84 0.85 0.35 0.03 0.89 0.2  0.96 0.84\n",
            " 0.01 0.02 0.72 0.   0.74 0.04 0.02 0.98 0.06 0.68 0.53 0.7  0.77 0.01\n",
            " 0.79 0.85 0.98 0.97 0.8  0.03 0.87 0.03 0.03 0.04 0.01 0.86 0.81 0.07\n",
            " 0.79 0.88 0.84 0.93 0.87 0.01 0.99 0.89 0.36 0.78 0.03 0.91 0.92 0.82\n",
            " 0.89 0.68 0.03 0.01 0.85 0.08 0.87 0.27 0.09 0.73 0.03 0.01 0.94 0.93\n",
            " 0.71 0.04 0.5  0.73 0.01 0.06 0.86 0.81 0.01 0.76 0.24 0.04 0.85 0.05\n",
            " 0.88 0.04 0.65 0.82 0.03 0.02 0.88 0.85 0.77 0.85 0.81 0.84 0.02 0.05\n",
            " 0.47 0.14 0.39 0.51 0.   0.1  0.55 0.93 0.03 0.86 0.8  0.87 0.25 0.24\n",
            " 0.04 0.91 0.84 0.02 0.05 0.04 0.22 0.87 0.77 0.13 0.03 0.86 0.86 0.03\n",
            " 0.94 0.8  0.04 0.01 0.82 0.87 0.   0.79 0.02 0.   0.69 0.07 0.2  0.95\n",
            " 0.82 0.89 0.95 0.02 0.36 0.98 0.35 0.76 0.92 0.16 0.87 0.91 0.91 0.17\n",
            " 0.91 0.97 0.04 0.93 0.87 0.02 0.88 0.78 0.58 0.8  0.31 0.27 0.04 0.99\n",
            " 0.92 0.79 0.85 0.89 0.05 0.83 0.66 0.03 0.9  0.17 1.   0.97 0.54 0.81\n",
            " 0.66 0.92 0.04 0.79 0.86 0.93 0.42 0.15 0.95 0.92 0.58 0.59 0.81 0.93\n",
            " 0.02 0.85 0.17 0.95 0.69 0.66 0.88 0.03 0.91 1.   0.   0.02 0.01 0.05\n",
            " 0.   0.12 0.9  0.87 0.78 0.01]\n",
            "[0 1 0 0 1 1 1 1 1 0 1 1 0 1 1 0 1 0 1 0 0 0 1 1 1 0 0 1 1 1 0 0 1 0 0 0 0\n",
            " 0 1 0 0 0 0 1 1 0 1 1 1 0 0 0 0 0 0 0 0 1 0 0 1 0 1 0 0 0 0 1 1 0 1 0 1 0\n",
            " 0 1 0 1 1 1 0 0 1 1 0 1 0 0 0 1 1 1 0 0 1 0 1 1 0 0 1 0 1 1 0 1 1 1 0 1 1\n",
            " 0 1 1 1 1 1 0 1 0 0 0 0 1 1 0 0 1 1 1 1 0 1 1 0 1 0 1 1 1 1 0 0 0 1 0 1 0\n",
            " 0 1 0 0 1 1 0 0 0 1 0 0 0 1 0 1 0 0 1 0 1 0 1 1 0 0 1 1 1 1 1 1 0 0 1 0 1\n",
            " 0 0 0 1 1 0 1 1 1 1 0 0 1 0 0 0 0 0 1 1 0 0 1 1 0 1 1 0 0 1 1 0 1 0 0 1 0\n",
            " 0 1 1 1 1 0 0 1 1 1 1 0 1 1 1 0 1 0 0 1 1 0 1 1 1 1 0 1 0 1 1 1 1 1 0 1 1\n",
            " 0 1 0 1 1 1 0 1 1 0 1 1 1 0 0 0 1 1 0 1 1 0 1 0 1 1 1 1 0 1 1 0 0 0 0 0 0\n",
            " 1 1 1 0]\n"
          ],
          "name": "stdout"
        }
      ]
    },
    {
      "cell_type": "code",
      "metadata": {
        "colab": {
          "base_uri": "https://localhost:8080/"
        },
        "id": "BY07J-Vqj04L",
        "outputId": "30bc7e30-d39f-4e58-9bab-fc80e5a3f63f"
      },
      "source": [
        "auc = roc_auc_score(testy, probs)\n",
        "print('AUC: %.2f' % auc)"
      ],
      "execution_count": null,
      "outputs": [
        {
          "output_type": "stream",
          "text": [
            "AUC: 0.96\n"
          ],
          "name": "stdout"
        }
      ]
    },
    {
      "cell_type": "code",
      "metadata": {
        "id": "uafI6_M9kinc"
      },
      "source": [
        "fpr, tpr, thresholds = roc_curve(testy, probs)"
      ],
      "execution_count": null,
      "outputs": []
    },
    {
      "cell_type": "code",
      "metadata": {
        "colab": {
          "base_uri": "https://localhost:8080/"
        },
        "id": "Tdg500p5ksx4",
        "outputId": "8eb0a4a6-8872-4e8a-dc86-b31452e3732d"
      },
      "source": [
        "print(thresholds)\n",
        "print(fpr)\n",
        "print(tpr)"
      ],
      "execution_count": null,
      "outputs": [
        {
          "output_type": "stream",
          "text": [
            "[2.   1.   0.98 0.97 0.96 0.95 0.94 0.93 0.92 0.91 0.9  0.89 0.88 0.87\n",
            " 0.86 0.85 0.84 0.83 0.82 0.81 0.8  0.79 0.78 0.77 0.76 0.75 0.74 0.73\n",
            " 0.72 0.71 0.7  0.69 0.68 0.66 0.65 0.59 0.58 0.54 0.53 0.52 0.49 0.43\n",
            " 0.42 0.39 0.36 0.35 0.31 0.27 0.25 0.24 0.22 0.2  0.17 0.16 0.15 0.14\n",
            " 0.08 0.07 0.06 0.05 0.04 0.03 0.02 0.01 0.  ]\n",
            "[0.         0.         0.         0.00704225 0.00704225 0.01408451\n",
            " 0.01408451 0.01408451 0.01408451 0.01408451 0.01408451 0.01408451\n",
            " 0.01408451 0.01408451 0.02112676 0.02112676 0.03521127 0.03521127\n",
            " 0.04225352 0.04929577 0.04929577 0.05633803 0.06338028 0.06338028\n",
            " 0.06338028 0.06338028 0.06338028 0.07042254 0.07042254 0.07746479\n",
            " 0.07746479 0.08450704 0.0915493  0.09859155 0.09859155 0.11267606\n",
            " 0.11267606 0.11267606 0.11971831 0.11971831 0.14084507 0.14084507\n",
            " 0.14788732 0.14788732 0.16197183 0.16901408 0.18309859 0.19014085\n",
            " 0.19014085 0.20422535 0.22535211 0.23943662 0.26056338 0.26760563\n",
            " 0.27464789 0.29577465 0.36619718 0.3943662  0.42253521 0.48591549\n",
            " 0.57042254 0.70422535 0.82394366 0.95070423 1.        ]\n",
            "[0.         0.01898734 0.05696203 0.06962025 0.07594937 0.10759494\n",
            " 0.12658228 0.17088608 0.22151899 0.26582278 0.29113924 0.34810127\n",
            " 0.37974684 0.43670886 0.48734177 0.5443038  0.58227848 0.60759494\n",
            " 0.63924051 0.67721519 0.72151899 0.74683544 0.76582278 0.79113924\n",
            " 0.80379747 0.81012658 0.83544304 0.84810127 0.85443038 0.86075949\n",
            " 0.86708861 0.87974684 0.88607595 0.90506329 0.91139241 0.91139241\n",
            " 0.92405063 0.93670886 0.93670886 0.94303797 0.94303797 0.9556962\n",
            " 0.9556962  0.96202532 0.96202532 0.96835443 0.96835443 0.97468354\n",
            " 0.98101266 0.98101266 0.98101266 0.98101266 0.98101266 0.98734177\n",
            " 0.98734177 0.98734177 0.98734177 0.98734177 0.99367089 0.99367089\n",
            " 1.         1.         1.         1.         1.        ]\n"
          ],
          "name": "stdout"
        }
      ]
    },
    {
      "cell_type": "code",
      "metadata": {
        "colab": {
          "base_uri": "https://localhost:8080/",
          "height": 295
        },
        "id": "KNaosnAak1QO",
        "outputId": "64cdfad0-3f14-4606-ef50-a3231736dc38"
      },
      "source": [
        "plot_roc_curve(fpr, tpr)"
      ],
      "execution_count": null,
      "outputs": [
        {
          "output_type": "display_data",
          "data": {
            "image/png": "[encoded data removed]",
            "text/plain": [
              "<Figure size 432x288 with 1 Axes>"
            ]
          },
          "metadata": {
            "tags": [],
            "needs_background": "light"
          }
        }
      ]
    },
    {
      "cell_type": "code",
      "metadata": {
        "id": "TwP1Uxg6lTS5"
      },
      "source": [
        ""
      ],
      "execution_count": null,
      "outputs": []
    }
  ]
}